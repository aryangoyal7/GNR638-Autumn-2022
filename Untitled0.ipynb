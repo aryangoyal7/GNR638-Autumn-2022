{
  "nbformat": 4,
  "nbformat_minor": 0,
  "metadata": {
    "colab": {
      "provenance": [],
      "collapsed_sections": []
    },
    "kernelspec": {
      "name": "python3",
      "display_name": "Python 3"
    },
    "language_info": {
      "name": "python"
    }
  },
  "cells": [
    {
      "cell_type": "code",
      "execution_count": null,
      "metadata": {
        "id": "IV-I-qIDAAvg"
      },
      "outputs": [],
      "source": [
        "import numpy as np\n",
        "import matplotlib.pyplot as plt"
      ]
    },
    {
      "cell_type": "code",
      "source": [
        "X_train1 = np.random.normal(loc=1,scale=0.5,size=(2,100))\n",
        "X_train2 = np.random.normal(loc=2,scale=0.2,size=(2,100))\n",
        "X_train = np.concatenate((X_train1,X_train2),axis=1)\n",
        "\n",
        "\n",
        "temp1 = np.array([[1],[0]])\n",
        "temp2 = np.array([[0],[1]])\n",
        "Y_train = temp1\n",
        "for i in range(99):\n",
        "  Y_train = np.concatenate((Y_train,temp1),axis=1)\n",
        "for i in range(100):\n",
        "  Y_train = np.concatenate((Y_train,temp2),axis=1)\n",
        "\n",
        "\n"
      ],
      "metadata": {
        "id": "JYZDCfxaAKf_"
      },
      "execution_count": null,
      "outputs": []
    },
    {
      "cell_type": "code",
      "source": [
        "#defining functions\n",
        "def tanh(x):\n",
        "  return np.tanh(x)\n",
        "\n",
        "def softmax(x):\n",
        "  expX = np.exp(x)\n",
        "  return expX/np.sum(expX,axis=0)\n",
        "\n"
      ],
      "metadata": {
        "id": "7ov6yJCRFWm6"
      },
      "execution_count": null,
      "outputs": []
    },
    {
      "cell_type": "code",
      "source": [
        "def derivative_tanh(x):\n",
        "  return (1-np.power(np.tanh(x),2))\n",
        "\n",
        "def softmax_derivative(z):\n",
        "  expZ = np.exp(z)\n",
        "  temp3 = expZ/np.sum(expZ,axis=0)\n",
        "  temp = np.prod(temp3,axis=0,keepdims = True)\n",
        "  temp = np.concatenate((temp,temp),axis = 0)\n",
        "  return temp\n",
        "  \n",
        " \n",
        "\n"
      ],
      "metadata": {
        "id": "3tIqddICF-1U"
      },
      "execution_count": null,
      "outputs": []
    },
    {
      "cell_type": "markdown",
      "source": [
        "## **Initialize Parameters**"
      ],
      "metadata": {
        "id": "2sbcp3-WGO90"
      }
    },
    {
      "cell_type": "code",
      "source": [
        "def initialize_parameters(n_x,n_h,n_y):\n",
        "  w1 = np.random.randn(n_h,n_x)*0.001\n",
        "  b1 = np.zeros((n_h,1))\n",
        "\n",
        "  w2 = np.random.randn(n_y,n_h)*0.001\n",
        "  b2 = np.zeros((n_h,1))\n",
        "\n",
        "  parameters = {\n",
        "      \"w1\" : w1,\n",
        "      \"w2\" : w2,\n",
        "      \"b1\" : b1,\n",
        "      \"b2\" : b2\n",
        "  }\n",
        "  return parameters\n"
      ],
      "metadata": {
        "id": "IH6Dyc_BGbeW"
      },
      "execution_count": null,
      "outputs": []
    },
    {
      "cell_type": "markdown",
      "source": [
        "## **Forward Propagation**"
      ],
      "metadata": {
        "id": "SSOhGUxJH3rv"
      }
    },
    {
      "cell_type": "code",
      "source": [
        "def forward_propagation(x,parameters):\n",
        "  w1 = parameters['w1']\n",
        "  b1 = parameters['b1']\n",
        "  w2 = parameters['w2']\n",
        "  b2 = parameters['b2']\n",
        "\n",
        "  z1 = np.dot(w1,x) + b1\n",
        "  a1 = tanh(z1)\n",
        "\n",
        "  z2 = np.dot(w2,a1) + b2\n",
        "  a2 = softmax(z2)\n",
        "\n",
        "  forward_temp = {\n",
        "      \"z1\" : z1,\n",
        "      \"a1\" : a1,\n",
        "      \"z2\" : z2,\n",
        "      \"a2\" : a2\n",
        "  }\n",
        "  return forward_temp\n"
      ],
      "metadata": {
        "id": "O_E4rJ4UH7mY"
      },
      "execution_count": null,
      "outputs": []
    },
    {
      "cell_type": "markdown",
      "source": [
        "## Cost **Function**"
      ],
      "metadata": {
        "id": "hdy9aB6VNGE5"
      }
    },
    {
      "cell_type": "code",
      "source": [
        "def cost_function(a2,y):\n",
        "  m = X_train.shape[1]\n",
        "\n",
        "  cost = -(1/m)*(np.sum(y*np.log(a2)) - 0.5*np.sum((y-a2)*(y-a2)))\n",
        "  return cost\n",
        "\n",
        "  \n"
      ],
      "metadata": {
        "id": "Hc6UgzduM2Ui"
      },
      "execution_count": null,
      "outputs": []
    },
    {
      "cell_type": "markdown",
      "source": [
        "## **Backpropagation**"
      ],
      "metadata": {
        "id": "1D9SDbXfY9ki"
      }
    },
    {
      "cell_type": "code",
      "source": [
        "def backward_prop(x,y,parameters,forward_cache):\n",
        "\n",
        "    w1 = parameters['w1']\n",
        "    b1 = parameters['b1']\n",
        "    w2 = parameters['w2']\n",
        "    b2 = parameters['b2']\n",
        "    \n",
        "    z1 = forward_cache['z1']\n",
        "    z2 = forward_cache['z2']\n",
        "    a1 = forward_cache['a1']\n",
        "    a2 = forward_cache['a2']\n",
        "\n",
        "    m = x.shape[1]\n",
        "\n",
        "    temp2 = np.divide(y,a2)\n",
        "    dz2 = (a2 - y)*(softmax_derivative(z2)+1)\n",
        "    dw2 = (1/m)*np.dot(dz2, a1.T)\n",
        "    db2 = (1/m)*np.sum(dz2, axis = 1, keepdims = True)\n",
        "    \n",
        "    dz1 = np.dot(w2.T, dz2)*derivative_tanh(z1)\n",
        "    dw1 = (1/m)*np.dot(dz1, x.T)\n",
        "    db1 = (1/m)*np.sum(dz1, axis = 1, keepdims = True)\n",
        "    \n",
        "    gradients = {\n",
        "        \"dw1\" : dw1,\n",
        "        \"db1\" : db1,\n",
        "        \"dw2\" : dw2,\n",
        "        \"db2\" : db2\n",
        "    }\n",
        "    \n",
        "    return gradients\n",
        "\n",
        "    \n",
        "\n"
      ],
      "metadata": {
        "id": "I486D5MBY8lD"
      },
      "execution_count": null,
      "outputs": []
    },
    {
      "cell_type": "markdown",
      "source": [
        "## **Update Parameters**"
      ],
      "metadata": {
        "id": "WdQ39w8BpRdo"
      }
    },
    {
      "cell_type": "code",
      "source": [
        "def update_parameters(parameters, gradients, learning_rate):\n",
        "    \n",
        "    w1 = parameters['w1']\n",
        "    b1 = parameters['b1']\n",
        "    w2 = parameters['w2']\n",
        "    b2 = parameters['b2']\n",
        "    \n",
        "    dw1 = gradients['dw1']\n",
        "    db1 = gradients['db1']\n",
        "    dw2 = gradients['dw2']\n",
        "    db2 = gradients['db2']\n",
        "    \n",
        "    w1 = w1 - learning_rate*dw1\n",
        "    b1 = b1 - learning_rate*db1\n",
        "    w2 = w2 - learning_rate*dw2\n",
        "    b2 = b2 - learning_rate*db2\n",
        "    \n",
        "    parameters = {\n",
        "        \"w1\" : w1,\n",
        "        \"b1\" : b1,\n",
        "        \"w2\" : w2,\n",
        "        \"b2\" : b2\n",
        "    }\n",
        "    \n",
        "    return parameters"
      ],
      "metadata": {
        "id": "TTPqB6jbpUxJ"
      },
      "execution_count": null,
      "outputs": []
    },
    {
      "cell_type": "markdown",
      "source": [
        "## **Complete Model**"
      ],
      "metadata": {
        "id": "yL7nHbkJperg"
      }
    },
    {
      "cell_type": "code",
      "source": [
        "def model(x, y, n_h, learning_rate, iterations):\n",
        "    \n",
        "    n_x = x.shape[0]\n",
        "    n_y = y.shape[0]\n",
        "    \n",
        "    cost_list = []\n",
        "    \n",
        "    parameters = initialize_parameters(n_x, n_h, n_y)\n",
        "    \n",
        "    for i in range(iterations):\n",
        "        \n",
        "        forward_temp = forward_propagation(x, parameters)\n",
        "        \n",
        "        cost = cost_function(forward_temp['a2'], y)\n",
        "        \n",
        "        gradients = backward_prop(x, y, parameters, forward_temp)\n",
        "        \n",
        "        parameters = update_parameters(parameters, gradients, learning_rate)\n",
        "        \n",
        "        cost_list.append(cost)\n",
        "        \n",
        "        if(i%(iterations/10) == 0):\n",
        "            print(\"Cost after\", i, \"iterations is :\", cost)\n",
        "        \n",
        "    return parameters, cost_list"
      ],
      "metadata": {
        "id": "lYRubhr6pieU"
      },
      "execution_count": null,
      "outputs": []
    },
    {
      "cell_type": "code",
      "source": [
        "iterations = 1000\n",
        "n_h = 2 #fixed\n",
        "learning_rate = 0.1\n",
        "Parameters, Cost_list = model(X_train, Y_train, n_h = n_h, learning_rate = learning_rate, iterations = iterations)"
      ],
      "metadata": {
        "colab": {
          "base_uri": "https://localhost:8080/"
        },
        "id": "6K9ZjOH-r2S2",
        "outputId": "3d0c502b-4a65-486a-e694-7eaaa7bb4b91"
      },
      "execution_count": null,
      "outputs": [
        {
          "output_type": "stream",
          "name": "stdout",
          "text": [
            "Cost after 0 iterations is : 0.9431486093832544\n",
            "Cost after 100 iterations is : 0.911291149149478\n",
            "Cost after 200 iterations is : 0.4269314878494667\n",
            "Cost after 300 iterations is : 0.2124728675302017\n",
            "Cost after 400 iterations is : 0.16482359264703114\n",
            "Cost after 500 iterations is : 0.14469456033970698\n",
            "Cost after 600 iterations is : 0.13350817518733882\n",
            "Cost after 700 iterations is : 0.1264283703953596\n",
            "Cost after 800 iterations is : 0.12159212518082214\n",
            "Cost after 900 iterations is : 0.1181185238993104\n"
          ]
        }
      ]
    },
    {
      "cell_type": "code",
      "source": [
        "t = np.arange(0, iterations)\n",
        "plt.plot(t, Cost_list)\n",
        "plt.show()"
      ],
      "metadata": {
        "colab": {
          "base_uri": "https://localhost:8080/",
          "height": 265
        },
        "id": "T-NOHT1nudBH",
        "outputId": "6860540a-b582-4626-c566-6295c5eef10c"
      },
      "execution_count": null,
      "outputs": [
        {
          "output_type": "display_data",
          "data": {
            "text/plain": [
              "<Figure size 432x288 with 1 Axes>"
            ],
            "image/png": "[encoded data removed]"
          },
          "metadata": {
            "needs_background": "light"
          }
        }
      ]
    }
  ]
}